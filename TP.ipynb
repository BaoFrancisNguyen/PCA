{
 "cells": [
  {
   "cell_type": "code",
   "execution_count": 21,
   "id": "a169b6e8",
   "metadata": {},
   "outputs": [
    {
     "name": "stdout",
     "output_type": "stream",
     "text": [
      "Requirement already satisfied: scikit-learn>=1.3.0 in c:\\users\\baofr\\desktop\\cours\\env\\lib\\site-packages (from -r requirements.txt (line 1)) (1.6.1)\n",
      "Requirement already satisfied: pandas>=2.0.0 in c:\\users\\baofr\\desktop\\cours\\env\\lib\\site-packages (from -r requirements.txt (line 2)) (2.2.3)\n",
      "Requirement already satisfied: matplotlib>=3.7.0 in c:\\users\\baofr\\desktop\\cours\\env\\lib\\site-packages (from -r requirements.txt (line 3)) (3.10.3)\n"
     ]
    },
    {
     "name": "stderr",
     "output_type": "stream",
     "text": [
      "ERROR: Could not find a version that satisfies the requirement jupyter-notebook>=7.0.0 (from versions: none)\n",
      "ERROR: No matching distribution found for jupyter-notebook>=7.0.0\n",
      "\n",
      "[notice] A new release of pip is available: 23.2.1 -> 25.1.1\n",
      "[notice] To update, run: python.exe -m pip install --upgrade pip\n"
     ]
    }
   ],
   "source": [
    "!pip install -r requirements.txt"
   ]
  },
  {
   "cell_type": "code",
   "execution_count": 11,
   "id": "2a60588f",
   "metadata": {},
   "outputs": [],
   "source": [
    "import pandas as pd\n",
    "\n",
    "# Charger le fichier CSV\n",
    "df = pd.read_csv('C:/Users/baofr/Downloads/bienetre.csv')\n"
   ]
  },
  {
   "cell_type": "code",
   "execution_count": 12,
   "id": "7e2f6d29",
   "metadata": {},
   "outputs": [
    {
     "name": "stdout",
     "output_type": "stream",
     "text": [
      "   target        age      taille      poids       revenu  experience  \\\n",
      "0       1  76.378818  172.472900  93.637574  2317.284189   23.187146   \n",
      "1       1  39.629339  162.527782  88.071856  2740.909189   26.742305   \n",
      "2       0  36.506832  196.457696  85.160759  3541.036636   20.895824   \n",
      "3       1  50.016190  174.829299  72.362368  3093.794975   26.155986   \n",
      "4       1  60.743330  171.536491  54.874865  2113.805284   14.771488   \n",
      "\n",
      "   education        imc    stress  nb_enfants  ...  exercice  alimentation  \\\n",
      "0   2.524067  24.544095  5.805570         1.0  ...       4.0      6.128322   \n",
      "1   3.136856  26.805875  3.970287         1.0  ...       1.0      6.068320   \n",
      "2   4.282662  24.218407  2.312967         0.0  ...       3.0      6.503321   \n",
      "3   3.007974  23.452811  5.387465         0.0  ...       3.0      6.015851   \n",
      "4   2.780533  26.065223  6.859302         1.0  ...       3.0      5.344601   \n",
      "\n",
      "    sommeil    pression  cholesterol  activite  satisfaction     risque  \\\n",
      "0  7.656376  129.058650   229.004516  4.483552      6.716421  46.007184   \n",
      "1  5.100178  121.038768   243.170215  4.908961      4.725666  42.880652   \n",
      "2  8.053128  108.250192   271.242294  7.003758      8.882047  23.152283   \n",
      "3  5.903230  124.828110   219.509215  4.570111      5.592381  51.413594   \n",
      "4  6.297733  117.464818   224.681593  5.145483      5.162349  47.531057   \n",
      "\n",
      "       sante  bienetre  \n",
      "0  71.051570  4.829417  \n",
      "1  64.900618  5.994971  \n",
      "2  87.163500  8.123009  \n",
      "3  72.278489  6.326265  \n",
      "4  72.340850  4.493604  \n",
      "\n",
      "[5 rows x 21 columns]\n"
     ]
    }
   ],
   "source": [
    "# Afficher les premières lignes pour vérifier\n",
    "print(df.head())"
   ]
  },
  {
   "cell_type": "code",
   "execution_count": 13,
   "id": "75b35c76",
   "metadata": {},
   "outputs": [
    {
     "name": "stdout",
     "output_type": "stream",
     "text": [
      "<class 'pandas.core.frame.DataFrame'>\n",
      "RangeIndex: 10000 entries, 0 to 9999\n",
      "Data columns (total 21 columns):\n",
      " #   Column        Non-Null Count  Dtype  \n",
      "---  ------        --------------  -----  \n",
      " 0   target        10000 non-null  int64  \n",
      " 1   age           10000 non-null  float64\n",
      " 2   taille        10000 non-null  float64\n",
      " 3   poids         10000 non-null  float64\n",
      " 4   revenu        10000 non-null  float64\n",
      " 5   experience    10000 non-null  float64\n",
      " 6   education     10000 non-null  float64\n",
      " 7   imc           10000 non-null  float64\n",
      " 8   stress        10000 non-null  float64\n",
      " 9   nb_enfants    10000 non-null  float64\n",
      " 10  depenses      10000 non-null  float64\n",
      " 11  exercice      10000 non-null  float64\n",
      " 12  alimentation  10000 non-null  float64\n",
      " 13  sommeil       10000 non-null  float64\n",
      " 14  pression      10000 non-null  float64\n",
      " 15  cholesterol   10000 non-null  float64\n",
      " 16  activite      10000 non-null  float64\n",
      " 17  satisfaction  10000 non-null  float64\n",
      " 18  risque        10000 non-null  float64\n",
      " 19  sante         10000 non-null  float64\n",
      " 20  bienetre      10000 non-null  float64\n",
      "dtypes: float64(20), int64(1)\n",
      "memory usage: 1.6 MB\n",
      "None\n"
     ]
    }
   ],
   "source": [
    "# Informations sur le DataFrame\n",
    "print(df.info())"
   ]
  },
  {
   "cell_type": "code",
   "execution_count": 14,
   "id": "7230e110",
   "metadata": {},
   "outputs": [
    {
     "name": "stdout",
     "output_type": "stream",
     "text": [
      "             target           age        taille         poids        revenu  \\\n",
      "count  10000.000000  10000.000000  10000.000000  10000.000000  10000.000000   \n",
      "mean       0.800000     47.978640    170.535341     74.042819   2796.214262   \n",
      "std        0.748369     12.457695     10.114769     13.341103    781.533488   \n",
      "min        0.000000      7.587327    129.436247     31.449135    275.978543   \n",
      "25%        0.000000     39.405573    163.740683     64.729830   2204.563230   \n",
      "50%        1.000000     47.619796    170.490729     73.192735   2757.064229   \n",
      "75%        1.000000     56.637883    177.275880     82.251508   3381.817122   \n",
      "max        2.000000     93.773829    214.790843    140.374368   5363.916672   \n",
      "\n",
      "         experience     education           imc        stress    nb_enfants  \\\n",
      "count  10000.000000  10000.000000  10000.000000  10000.000000  10000.000000   \n",
      "mean      19.032658      3.299494     25.621232      4.598669      1.836000   \n",
      "std        6.242550      0.779620      3.380089      1.807880      1.217396   \n",
      "min       -6.476955      1.000000     16.595884     -0.817043      0.000000   \n",
      "25%       14.697224      2.718558     23.240084      3.197705      1.000000   \n",
      "50%       18.971618      3.278090     25.314537      4.489886      2.000000   \n",
      "75%       23.292222      3.890786     27.579416      5.882468      3.000000   \n",
      "max       40.327629      5.000000     40.608144     10.605591      7.000000   \n",
      "\n",
      "       ...      exercice  alimentation       sommeil      pression  \\\n",
      "count  ...  10000.000000  10000.000000  10000.000000  10000.000000   \n",
      "mean   ...      2.626100      6.402255      7.195132    123.047003   \n",
      "std    ...      1.543353      1.804730      1.231426     12.549389   \n",
      "min    ...      0.000000      1.000000      2.773131     79.364067   \n",
      "25%    ...      1.000000      5.101108      6.369437    114.360830   \n",
      "50%    ...      3.000000      6.502440      7.214413    122.755603   \n",
      "75%    ...      4.000000      7.805253      8.051258    131.595146   \n",
      "max    ...      8.000000     10.000000     11.331989    167.334076   \n",
      "\n",
      "        cholesterol      activite  satisfaction        risque         sante  \\\n",
      "count  10000.000000  10000.000000  10000.000000  10000.000000  10000.000000   \n",
      "mean     204.035817      5.796017      6.393817     44.145412     73.824255   \n",
      "std       30.366382      2.163302      1.789406     24.605016     17.215520   \n",
      "min      113.800424      1.000000      1.000000      0.000000     16.932014   \n",
      "25%      181.995873      4.113038      5.129324     23.080978     60.948984   \n",
      "50%      202.548092      5.651046      6.484931     43.577995     76.565336   \n",
      "75%      225.125376      7.684186      7.766372     60.885159     88.778946   \n",
      "max      305.815869     10.000000     10.000000    100.000000    100.000000   \n",
      "\n",
      "           bienetre  \n",
      "count  10000.000000  \n",
      "mean       6.402144  \n",
      "std        1.797726  \n",
      "min        0.699666  \n",
      "25%        5.114500  \n",
      "50%        6.499488  \n",
      "75%        7.787756  \n",
      "max       10.000000  \n",
      "\n",
      "[8 rows x 21 columns]\n"
     ]
    }
   ],
   "source": [
    "# Statistiques descriptives\n",
    "print(df.describe())"
   ]
  },
  {
   "cell_type": "code",
   "execution_count": 15,
   "id": "33348991",
   "metadata": {},
   "outputs": [],
   "source": [
    "df = pd.read_csv('C:/Users/baofr/Downloads/bienetre.csv',\n",
    "                 sep=';',                   # Si le séparateur est différent de la virgule\n",
    "                 decimal=',',               # Pour les décimales avec virgule (format européen)\n",
    "                 encoding='utf-8',          # Pour spécifier l'encodage\n",
    "                 header=0,                  # Ligne d'en-tête (0 = première ligne)\n",
    "                 na_values=['NA', 'N/A'],   # Valeurs à considérer comme NaN\n",
    "                 index_col=0)               # Utiliser la première colonne comme index"
   ]
  },
  {
   "cell_type": "code",
   "execution_count": 23,
   "id": "6175c6f1",
   "metadata": {},
   "outputs": [
    {
     "name": "stdout",
     "output_type": "stream",
     "text": [
      "   target        age      taille      poids       revenu  experience  \\\n",
      "0       1  76.378818  172.472900  93.637574  2317.284189   23.187146   \n",
      "1       1  39.629339  162.527782  88.071856  2740.909189   26.742305   \n",
      "2       0  36.506832  196.457696  85.160759  3541.036636   20.895824   \n",
      "3       1  50.016190  174.829299  72.362368  3093.794975   26.155986   \n",
      "4       1  60.743330  171.536491  54.874865  2113.805284   14.771488   \n",
      "\n",
      "   education        imc    stress  nb_enfants  ...  exercice  alimentation  \\\n",
      "0   2.524067  24.544095  5.805570         1.0  ...       4.0      6.128322   \n",
      "1   3.136856  26.805875  3.970287         1.0  ...       1.0      6.068320   \n",
      "2   4.282662  24.218407  2.312967         0.0  ...       3.0      6.503321   \n",
      "3   3.007974  23.452811  5.387465         0.0  ...       3.0      6.015851   \n",
      "4   2.780533  26.065223  6.859302         1.0  ...       3.0      5.344601   \n",
      "\n",
      "    sommeil    pression  cholesterol  activite  satisfaction     risque  \\\n",
      "0  7.656376  129.058650   229.004516  4.483552      6.716421  46.007184   \n",
      "1  5.100178  121.038768   243.170215  4.908961      4.725666  42.880652   \n",
      "2  8.053128  108.250192   271.242294  7.003758      8.882047  23.152283   \n",
      "3  5.903230  124.828110   219.509215  4.570111      5.592381  51.413594   \n",
      "4  6.297733  117.464818   224.681593  5.145483      5.162349  47.531057   \n",
      "\n",
      "       sante  bienetre  \n",
      "0  71.051570  4.829417  \n",
      "1  64.900618  5.994971  \n",
      "2  87.163500  8.123009  \n",
      "3  72.278489  6.326265  \n",
      "4  72.340850  4.493604  \n",
      "\n",
      "[5 rows x 21 columns]\n",
      "Index(['target', 'age', 'taille', 'poids', 'revenu', 'experience', 'education',\n",
      "       'imc', 'stress', 'nb_enfants', 'depenses', 'exercice', 'alimentation',\n",
      "       'sommeil', 'pression', 'cholesterol', 'activite', 'satisfaction',\n",
      "       'risque', 'sante', 'bienetre'],\n",
      "      dtype='object')\n",
      "Fitting 5 folds for each of 30 candidates, totalling 150 fits\n",
      "Meilleure valeur de K: {'n_neighbors': np.int64(9)}\n",
      "Meilleur score de validation croisée: 0.9995\n",
      "\n",
      "Rapport de classification sur l'ensemble de test:\n",
      "              precision    recall  f1-score   support\n",
      "\n",
      "           0       1.00      1.00      1.00       855\n",
      "           1       1.00      1.00      1.00       765\n",
      "           2       1.00      1.00      1.00       380\n",
      "\n",
      "    accuracy                           1.00      2000\n",
      "   macro avg       1.00      1.00      1.00      2000\n",
      "weighted avg       1.00      1.00      1.00      2000\n",
      "\n",
      "\n",
      "Matrice de confusion:\n",
      "[[855   0   0]\n",
      " [  0 765   0]\n",
      " [  0   0 380]]\n"
     ]
    },
    {
     "data": {
      "image/png": "[encoded data removed]",
      "text/plain": [
       "<Figure size 1000x600 with 1 Axes>"
      ]
     },
     "metadata": {},
     "output_type": "display_data"
    }
   ],
   "source": [
    "import numpy as np\n",
    "import pandas as pd\n",
    "from sklearn.model_selection import GridSearchCV, train_test_split\n",
    "from sklearn.neighbors import KNeighborsClassifier\n",
    "from sklearn.preprocessing import StandardScaler\n",
    "from sklearn.metrics import classification_report, confusion_matrix\n",
    "\n",
    "# Charger le fichier CSV\n",
    "\n",
    "df = pd.read_csv('C:/Users/baofr/Downloads/bienetre.csv')\n",
    "\n",
    "# Vérification des données\n",
    "print(df.head())\n",
    "print(df.columns)\n",
    "\n",
    "# Séparer les features et la cible\n",
    "# Utilisons 'target' comme variable cible\n",
    "X = df.drop('target', axis=1)\n",
    "y = df['target']\n",
    "\n",
    "# Diviser les données en ensembles d'entraînement et de test\n",
    "X_train, X_test, y_train, y_test = train_test_split(X, y, test_size=0.2)\n",
    "\n",
    "# Standardiser les caractéristiques\n",
    "scaler = StandardScaler()\n",
    "X_train_scaled = scaler.fit_transform(X_train)\n",
    "X_test_scaled = scaler.transform(X_test)\n",
    "\n",
    "# Définir la grille de paramètres à tester\n",
    "param_grid = {'n_neighbors': np.arange(1, 31)}\n",
    "\n",
    "# Créer le modèle KNN\n",
    "knn = KNeighborsClassifier()\n",
    "\n",
    "# Configurer GridSearchCV avec validation croisée\n",
    "grid_search = GridSearchCV(\n",
    "    knn, \n",
    "    param_grid, \n",
    "    cv=5,\n",
    "    scoring='accuracy',\n",
    "    n_jobs=-1,\n",
    "    verbose=1\n",
    ")\n",
    "\n",
    "# Exécuter la recherche par grille\n",
    "grid_search.fit(X_train_scaled, y_train)\n",
    "\n",
    "# Afficher les résultats\n",
    "print(\"Meilleure valeur de K:\", grid_search.best_params_)\n",
    "print(\"Meilleur score de validation croisée:\", grid_search.best_score_)\n",
    "\n",
    "# Évaluer le modèle avec la meilleure valeur de K sur l'ensemble de test\n",
    "best_knn = grid_search.best_estimator_\n",
    "y_pred = best_knn.predict(X_test_scaled)\n",
    "\n",
    "# Afficher les performances du modèle\n",
    "print(\"\\nRapport de classification sur l'ensemble de test:\")\n",
    "print(classification_report(y_test, y_pred))\n",
    "\n",
    "print(\"\\nMatrice de confusion:\")\n",
    "print(confusion_matrix(y_test, y_pred))\n",
    "\n",
    "# Visualiser les scores pour les différentes valeurs de K\n",
    "import matplotlib.pyplot as plt\n",
    "\n",
    "results = pd.DataFrame(grid_search.cv_results_)\n",
    "plt.figure(figsize=(10, 6))\n",
    "plt.plot(param_grid['n_neighbors'], results['mean_test_score'])\n",
    "plt.xlabel('Nombre de voisins (K)')\n",
    "plt.ylabel('Score de validation croisée')\n",
    "plt.title('Score de validation croisée en fonction de K')\n",
    "plt.grid(True)\n",
    "plt.show()"
   ]
  },
  {
   "cell_type": "code",
   "execution_count": 20,
   "id": "cc30a222",
   "metadata": {},
   "outputs": [
    {
     "name": "stdout",
     "output_type": "stream",
     "text": [
      "R² Score: 0.999128288097297\n",
      "MSE: 0.0005\n",
      "RMSE: 0.022360679774997897\n",
      "MAE: 0.0005\n"
     ]
    }
   ],
   "source": [
    "from sklearn.neighbors import KNeighborsRegressor\n",
    "\n",
    "# Remplacer KNeighborsClassifier par KNeighborsRegressor\n",
    "knn = KNeighborsRegressor()\n",
    "\n",
    "# Changer la métrique d'évaluation pour une tâche de régression\n",
    "grid_search = GridSearchCV(\n",
    "    knn, \n",
    "    param_grid, \n",
    "    cv=5,\n",
    "    scoring='r2',  # ou 'neg_mean_squared_error' ou 'neg_mean_absolute_error'\n",
    "    n_jobs=-1,\n",
    "    verbose=1\n",
    ")\n",
    "\n",
    "# Le rapport de classification et la matrice de confusion ne sont pas adaptés à la régression\n",
    "# Les remplacer par des métriques de régression\n",
    "from sklearn.metrics import r2_score, mean_squared_error, mean_absolute_error\n",
    "\n",
    "# Évaluation du modèle\n",
    "y_pred = best_knn.predict(X_test_scaled)\n",
    "print(\"R² Score:\", r2_score(y_test, y_pred))\n",
    "print(\"MSE:\", mean_squared_error(y_test, y_pred))\n",
    "print(\"RMSE:\", np.sqrt(mean_squared_error(y_test, y_pred)))\n",
    "print(\"MAE:\", mean_absolute_error(y_test, y_pred))"
   ]
  },
  {
   "cell_type": "code",
   "execution_count": null,
   "id": "c90518f1",
   "metadata": {},
   "outputs": [],
   "source": []
  }
 ],
 "metadata": {
  "kernelspec": {
   "display_name": "env",
   "language": "python",
   "name": "python3"
  },
  "language_info": {
   "codemirror_mode": {
    "name": "ipython",
    "version": 3
   },
   "file_extension": ".py",
   "mimetype": "text/x-python",
   "name": "python",
   "nbconvert_exporter": "python",
   "pygments_lexer": "ipython3",
   "version": "3.11.5"
  }
 },
 "nbformat": 4,
 "nbformat_minor": 5
}
